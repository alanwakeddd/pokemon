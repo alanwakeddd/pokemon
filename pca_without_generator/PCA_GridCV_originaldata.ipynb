{
  "nbformat": 4,
  "nbformat_minor": 0,
  "metadata": {
    "colab": {
      "name": "PCA-GridCV-originaldata.ipynb",
      "version": "0.3.2",
      "provenance": []
    },
    "kernelspec": {
      "name": "python3",
      "display_name": "Python 3"
    },
    "accelerator": "GPU"
  },
  "cells": [
    {
      "cell_type": "code",
      "metadata": {
        "id": "ZH0rJlIOzlLU",
        "colab_type": "code",
        "outputId": "4e34c712-5627-4ad3-c025-d32ad8b49b05",
        "colab": {
          "base_uri": "https://localhost:8080/",
          "height": 35
        }
      },
      "source": [
        "# test GPU\n",
        "import tensorflow as tf\n",
        "device_name = tf.test.gpu_device_name()\n",
        "if device_name != '/device:GPU:0':\n",
        "  raise SystemError('GPU device not found')\n",
        "print('Found GPU at: {}'.format(device_name))"
      ],
      "execution_count": 0,
      "outputs": [
        {
          "output_type": "stream",
          "text": [
            "Found GPU at: /device:GPU:0\n"
          ],
          "name": "stdout"
        }
      ]
    },
    {
      "cell_type": "code",
      "metadata": {
        "id": "249Vok5SDkjB",
        "colab_type": "code",
        "colab": {}
      },
      "source": [
        "# import packages\n",
        "import numpy as np\n",
        "import matplotlib.pyplot as plt\n",
        "from keras.preprocessing import image\n",
        "nrow = 150\n",
        "ncol = 150\n",
        "data_dir = '/content/drive/My Drive/Colab Notebooks/project/train'\n",
        "\n",
        "# data_size = 2000\n",
        "# folder = np.array(['Bulbasaur','Charmander','Pikachu','Squirtle'], dtype=str)\n",
        "\n",
        "data_size = 500*12\n",
        "folder = np.array(['Arcanine','Bulbasaur','Charizard','Charmander','Eevee','Jigglypuff','Lucario','Mew','Mudkip','Pikachu','Squirtle','Umbereon'], dtype=str)"
      ],
      "execution_count": 0,
      "outputs": []
    },
    {
      "cell_type": "code",
      "metadata": {
        "id": "P2vUxnqezMMc",
        "colab_type": "code",
        "outputId": "abe26fea-560e-4b50-a517-fa4a259a9789",
        "colab": {
          "base_uri": "https://localhost:8080/",
          "height": 146
        }
      },
      "source": [
        "import os\n",
        "k = 0;\n",
        "data_shape = (data_size,nrow,ncol)\n",
        "x = np.zeros(data_shape)\n",
        "y = np.zeros(data_size)\n",
        "for i, j in enumerate(folder):\n",
        "  class_path = os.path.join(data_dir, folder[i])\n",
        "  for image_name in os.listdir(class_path):\n",
        "    if(image_name != '.ipynb_checkpoints'):\n",
        "      image_path = os.path.join(class_path, image_name)\n",
        "      x[k,:,:] = image.load_img(image_path, target_size=(nrow, ncol), grayscale=True)\n",
        "      y[k] = i\n",
        "      k = k + 1"
      ],
      "execution_count": 0,
      "outputs": [
        {
          "output_type": "stream",
          "text": [
            "/usr/local/lib/python3.6/dist-packages/keras_preprocessing/image/utils.py:98: UserWarning: grayscale is deprecated. Please use color_mode = \"grayscale\"\n",
            "  warnings.warn('grayscale is deprecated. Please use '\n",
            "/usr/local/lib/python3.6/dist-packages/PIL/Image.py:914: UserWarning: Palette images with Transparency   expressed in bytes should be converted to RGBA images\n",
            "  'to RGBA images')\n",
            "/usr/local/lib/python3.6/dist-packages/PIL/TiffImagePlugin.py:742: UserWarning: Corrupt EXIF data.  Expecting to read 4 bytes but only got 0. \n",
            "  warnings.warn(str(msg))\n"
          ],
          "name": "stderr"
        }
      ]
    },
    {
      "cell_type": "code",
      "metadata": {
        "id": "jKRk-DWD3D31",
        "colab_type": "code",
        "colab": {}
      },
      "source": [
        "X = x.reshape((data_size,nrow*ncol))"
      ],
      "execution_count": 0,
      "outputs": []
    },
    {
      "cell_type": "code",
      "metadata": {
        "id": "vDw0RUgKriOJ",
        "colab_type": "code",
        "colab": {}
      },
      "source": [
        "from sklearn.decomposition import PCA\n",
        "from sklearn.pipeline import Pipeline\n",
        "from sklearn.model_selection import GridSearchCV\n",
        "from sklearn.svm import SVC\n",
        "\n",
        "scaler = StandardScaler()\n",
        "pca = PCA()\n",
        "svc = SVC(kernel='rbf')\n",
        "pipe = Pipeline(steps=[('scaler', scaler), ('pca', pca), ('svc', svc)])"
      ],
      "execution_count": 0,
      "outputs": []
    },
    {
      "cell_type": "code",
      "metadata": {
        "id": "U6eHYNEbrqKh",
        "colab_type": "code",
        "colab": {}
      },
      "source": [
        "ncomp_test = np.arange(3,11)\n",
        "c = np.array([-2,-1,0,1,2,3],dtype=float)\n",
        "c_test = 10**c\n",
        "g = np.array([-3,-2,-1,0,1],dtype=float)\n",
        "gam_test = 10**g"
      ],
      "execution_count": 0,
      "outputs": []
    },
    {
      "cell_type": "code",
      "metadata": {
        "id": "ykea_dn3piJV",
        "colab_type": "code",
        "colab": {}
      },
      "source": [
        "params = {'pca__n_components': ncomp_test, 'svc__C' : c_test, 'svc__gamma' : gam_test}"
      ],
      "execution_count": 0,
      "outputs": []
    },
    {
      "cell_type": "code",
      "metadata": {
        "id": "1eT-2hntpj-6",
        "colab_type": "code",
        "colab": {}
      },
      "source": [
        "estimator = GridSearchCV(pipe, params, cv=5, return_train_score =True, iid=False)\n",
        "estimator.fit(X,y)"
      ],
      "execution_count": 0,
      "outputs": []
    },
    {
      "cell_type": "code",
      "metadata": {
        "id": "kxPwxYEdplew",
        "colab_type": "code",
        "colab": {}
      },
      "source": [
        "print('Best test score is',estimator.best_score_)\n",
        "print('Best parameters are',estimator.best_params_)"
      ],
      "execution_count": 0,
      "outputs": []
    },
    {
      "cell_type": "code",
      "metadata": {
        "id": "muGSF7j8pm_s",
        "colab_type": "code",
        "colab": {}
      },
      "source": [
        "test_score = estimator.cv_results_['mean_test_score']\n",
        "scores = test_score.reshape(len(ncomp_test),len(c_test),len(gam_test))\n",
        "print(scores.shape)\n",
        "\n",
        "i = np.where(ncomp_test==5)[0][0]\n",
        "print('Index of n_components=5 is',i)\n",
        "\n",
        "plt.imshow(scores[i, :, :])\n",
        "plt.xlabel('Gamma')\n",
        "plt.ylabel('C')\n",
        "plt.colorbar()\n",
        "\n",
        "ax = plt.gca()\n",
        "n0 = len(c_test)\n",
        "n1 = len(gam_test)\n",
        "ax.set_xticks(np.arange(0,n1))\n",
        "ax.set_xticklabels(gam_test)\n",
        "ax.set_yticks(np.arange(0,n0))\n",
        "_ = ax.set_yticklabels(c_test)\n",
        "plt.show()"
      ],
      "execution_count": 0,
      "outputs": []
    }
  ]
}